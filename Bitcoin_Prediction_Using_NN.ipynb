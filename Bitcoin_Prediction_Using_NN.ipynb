{
  "nbformat": 4,
  "nbformat_minor": 0,
  "metadata": {
    "colab": {
      "name": "Bitcoin_Prediction_Using_NN",
      "provenance": [],
      "collapsed_sections": []
    },
    "kernelspec": {
      "name": "python3",
      "display_name": "Python 3"
    },
    "language_info": {
      "name": "python"
    }
  },
  "cells": [
    {
      "cell_type": "code",
      "execution_count": null,
      "metadata": {
        "id": "x4l8n3F_fIWY"
      },
      "outputs": [],
      "source": [
        "# Description: This program predicts the price of Bitcoin for the next 60 days"
      ]
    },
    {
      "cell_type": "code",
      "source": [
        "#Import the libraries\n",
        "!pip install -U pandas\n",
        "!pip install -U pandas_datareader\n",
        "\n",
        "import pandas as pd\n",
        "import numpy as np\n",
        "import matplotlib.pyplot as plt\n",
        "import datetime as dt\n",
        "import pandas_datareader as web\n",
        "\n",
        "from sklearn.preprocessing import MinMaxScaler\n",
        "from tensorflow.keras.layers import Dense, Dropout, LSTM\n",
        "from tensorflow.keras.models import Sequential"
      ],
      "metadata": {
        "colab": {
          "base_uri": "https://localhost:8080/"
        },
        "id": "5p7wTYJcCHhc",
        "outputId": "df74842a-2b52-4f7d-8648-31abebb6a396"
      },
      "execution_count": 3,
      "outputs": [
        {
          "output_type": "stream",
          "name": "stdout",
          "text": [
            "Looking in indexes: https://pypi.org/simple, https://us-python.pkg.dev/colab-wheels/public/simple/\n",
            "Requirement already satisfied: pandas in /usr/local/lib/python3.7/dist-packages (1.3.5)\n",
            "Requirement already satisfied: pytz>=2017.3 in /usr/local/lib/python3.7/dist-packages (from pandas) (2022.1)\n",
            "Requirement already satisfied: numpy>=1.17.3 in /usr/local/lib/python3.7/dist-packages (from pandas) (1.21.6)\n",
            "Requirement already satisfied: python-dateutil>=2.7.3 in /usr/local/lib/python3.7/dist-packages (from pandas) (2.8.2)\n",
            "Requirement already satisfied: six>=1.5 in /usr/local/lib/python3.7/dist-packages (from python-dateutil>=2.7.3->pandas) (1.15.0)\n",
            "Looking in indexes: https://pypi.org/simple, https://us-python.pkg.dev/colab-wheels/public/simple/\n",
            "Requirement already satisfied: pandas_datareader in /usr/local/lib/python3.7/dist-packages (0.10.0)\n",
            "Requirement already satisfied: lxml in /usr/local/lib/python3.7/dist-packages (from pandas_datareader) (4.2.6)\n",
            "Requirement already satisfied: requests>=2.19.0 in /usr/local/lib/python3.7/dist-packages (from pandas_datareader) (2.23.0)\n",
            "Requirement already satisfied: pandas>=0.23 in /usr/local/lib/python3.7/dist-packages (from pandas_datareader) (1.3.5)\n",
            "Requirement already satisfied: numpy>=1.17.3 in /usr/local/lib/python3.7/dist-packages (from pandas>=0.23->pandas_datareader) (1.21.6)\n",
            "Requirement already satisfied: python-dateutil>=2.7.3 in /usr/local/lib/python3.7/dist-packages (from pandas>=0.23->pandas_datareader) (2.8.2)\n",
            "Requirement already satisfied: pytz>=2017.3 in /usr/local/lib/python3.7/dist-packages (from pandas>=0.23->pandas_datareader) (2022.1)\n",
            "Requirement already satisfied: six>=1.5 in /usr/local/lib/python3.7/dist-packages (from python-dateutil>=2.7.3->pandas>=0.23->pandas_datareader) (1.15.0)\n",
            "Requirement already satisfied: certifi>=2017.4.17 in /usr/local/lib/python3.7/dist-packages (from requests>=2.19.0->pandas_datareader) (2022.6.15)\n",
            "Requirement already satisfied: chardet<4,>=3.0.2 in /usr/local/lib/python3.7/dist-packages (from requests>=2.19.0->pandas_datareader) (3.0.4)\n",
            "Requirement already satisfied: idna<3,>=2.5 in /usr/local/lib/python3.7/dist-packages (from requests>=2.19.0->pandas_datareader) (2.10)\n",
            "Requirement already satisfied: urllib3!=1.25.0,!=1.25.1,<1.26,>=1.21.1 in /usr/local/lib/python3.7/dist-packages (from requests>=2.19.0->pandas_datareader) (1.24.3)\n"
          ]
        }
      ]
    },
    {
      "cell_type": "code",
      "source": [
        "#Load the data\n",
        "crypto_currency = 'BTC'\n",
        "against_currency = 'USD'\n",
        "\n",
        "start = dt.datetime(2016, 1, 1)\n",
        "end = dt.datetime.now()\n",
        "\n",
        "data = web.DataReader(\n",
        "    f'{crypto_currency}-{against_currency}',\n",
        "    'yahoo',\n",
        "    start,\n",
        "    end\n",
        ")"
      ],
      "metadata": {
        "id": "tkqlBhe-CR90"
      },
      "execution_count": 4,
      "outputs": []
    },
    {
      "cell_type": "code",
      "source": [
        "#Scale data\n",
        "scaler = MinMaxScaler(feature_range=(0, 1))\n",
        "scaled_data = scaler.fit_transform(data['Close'].values.reshape(-1, 1))"
      ],
      "metadata": {
        "id": "8KmlDhWzFFar"
      },
      "execution_count": 5,
      "outputs": []
    },
    {
      "cell_type": "code",
      "source": [
        "#Prepare data\n",
        "prediction_days = 60\n",
        "x_train, y_train = [], []\n",
        "for x in range(prediction_days, len(scaled_data)):\n",
        "  x_train.append(scaled_data[x-prediction_days:x])\n",
        "  y_train.append(scaled_data[x, 0])"
      ],
      "metadata": {
        "id": "MembfSYJGOhx"
      },
      "execution_count": 6,
      "outputs": []
    },
    {
      "cell_type": "code",
      "source": [
        "#Reshape data\n",
        "x_train, y_train = np.array(x_train), np.array(y_train)\n",
        "x_train = np.reshape(x_train, (x_train.shape[0], x_train.shape[1], 1))"
      ],
      "metadata": {
        "id": "u2E9gqcwG-3l"
      },
      "execution_count": 7,
      "outputs": []
    },
    {
      "cell_type": "code",
      "source": [
        "#Create the Neural Network\n",
        "model = Sequential()\n",
        "model.add(LSTM(\n",
        "    units=50,\n",
        "    return_sequences=True,\n",
        "    input_shape=(x_train.shape[1], 1)\n",
        "))\n",
        "model.add(Dropout(0.2)) # prevent overfitting\n",
        "model.add(LSTM(\n",
        "    units=50,\n",
        "    return_sequences=True\n",
        "))\n",
        "model.add(Dropout(0.2)) # prevent overfitting\n",
        "model.add(LSTM(\n",
        "    units=50\n",
        "))\n",
        "model.add(Dropout(0.2)) # prevent overfitting\n",
        "model.add(Dense(units=1)) # final value"
      ],
      "metadata": {
        "id": "8E-nhLCKHbkb"
      },
      "execution_count": 10,
      "outputs": []
    },
    {
      "cell_type": "code",
      "source": [
        "#Train the model\n",
        "model.compile(optimizer='adam', loss='mean_squared_error')\n",
        "model.fit(x_train, y_train, epochs=25, batch_size=32)"
      ],
      "metadata": {
        "colab": {
          "base_uri": "https://localhost:8080/"
        },
        "id": "xMmg9FHlJ7CB",
        "outputId": "dcafbcaa-69f4-4240-8491-fc3da3370946"
      },
      "execution_count": 13,
      "outputs": [
        {
          "output_type": "stream",
          "name": "stdout",
          "text": [
            "Epoch 1/25\n",
            "72/72 [==============================] - 14s 104ms/step - loss: 0.0069\n",
            "Epoch 2/25\n",
            "72/72 [==============================] - 7s 91ms/step - loss: 0.0030\n",
            "Epoch 3/25\n",
            "72/72 [==============================] - 7s 92ms/step - loss: 0.0025\n",
            "Epoch 4/25\n",
            "72/72 [==============================] - 7s 91ms/step - loss: 0.0027\n",
            "Epoch 5/25\n",
            "72/72 [==============================] - 7s 92ms/step - loss: 0.0024\n",
            "Epoch 6/25\n",
            "72/72 [==============================] - 7s 91ms/step - loss: 0.0020\n",
            "Epoch 7/25\n",
            "72/72 [==============================] - 7s 91ms/step - loss: 0.0021\n",
            "Epoch 8/25\n",
            "72/72 [==============================] - 7s 92ms/step - loss: 0.0017\n",
            "Epoch 9/25\n",
            "72/72 [==============================] - 7s 92ms/step - loss: 0.0018\n",
            "Epoch 10/25\n",
            "72/72 [==============================] - 7s 92ms/step - loss: 0.0017\n",
            "Epoch 11/25\n",
            "72/72 [==============================] - 7s 91ms/step - loss: 0.0017\n",
            "Epoch 12/25\n",
            "72/72 [==============================] - 7s 92ms/step - loss: 0.0016\n",
            "Epoch 13/25\n",
            "72/72 [==============================] - 7s 92ms/step - loss: 0.0016\n",
            "Epoch 14/25\n",
            "72/72 [==============================] - 7s 91ms/step - loss: 0.0015\n",
            "Epoch 15/25\n",
            "72/72 [==============================] - 7s 92ms/step - loss: 0.0015\n",
            "Epoch 16/25\n",
            "72/72 [==============================] - 6s 90ms/step - loss: 0.0015\n",
            "Epoch 17/25\n",
            "72/72 [==============================] - 7s 91ms/step - loss: 0.0013\n",
            "Epoch 18/25\n",
            "72/72 [==============================] - 7s 91ms/step - loss: 0.0013\n",
            "Epoch 19/25\n",
            "72/72 [==============================] - 7s 91ms/step - loss: 0.0013\n",
            "Epoch 20/25\n",
            "72/72 [==============================] - 7s 91ms/step - loss: 0.0014\n",
            "Epoch 21/25\n",
            "72/72 [==============================] - 7s 92ms/step - loss: 0.0012\n",
            "Epoch 22/25\n",
            "72/72 [==============================] - 7s 92ms/step - loss: 0.0011\n",
            "Epoch 23/25\n",
            "72/72 [==============================] - 7s 92ms/step - loss: 0.0012\n",
            "Epoch 24/25\n",
            "72/72 [==============================] - 7s 93ms/step - loss: 0.0013\n",
            "Epoch 25/25\n",
            "72/72 [==============================] - 7s 92ms/step - loss: 0.0011\n"
          ]
        },
        {
          "output_type": "execute_result",
          "data": {
            "text/plain": [
              "<keras.callbacks.History at 0x7f2d9fd315d0>"
            ]
          },
          "metadata": {},
          "execution_count": 13
        }
      ]
    },
    {
      "cell_type": "code",
      "source": [
        "#Load test data\n",
        "test_start = dt.datetime(2020,1,1) + dt.timedelta(days=-prediction_days)\n",
        "test_end = dt.datetime.now()\n",
        "\n",
        "test_data = web.DataReader(\n",
        "    f'{crypto_currency}-{against_currency}',\n",
        "    'yahoo',\n",
        "    test_start,\n",
        "    test_end\n",
        ")\n",
        "actual_prices = test_data['Close'].values\n",
        "\n",
        "total_dataset = pd.concat((data['Close'], test_data['Close']), axis=0)"
      ],
      "metadata": {
        "id": "X7Jmc57cJ_il"
      },
      "execution_count": 53,
      "outputs": []
    },
    {
      "cell_type": "code",
      "source": [
        "#Prepare the test model data\n",
        "model_inputs = total_dataset[len(total_dataset) - len(test_data) - prediction_days:].values\n",
        "model_inputs = model_inputs.reshape(-1, 1)\n",
        "model_inputs = scaler.fit_transform(model_inputs)"
      ],
      "metadata": {
        "id": "2tvSzBowK7RV"
      },
      "execution_count": 54,
      "outputs": []
    },
    {
      "cell_type": "code",
      "source": [
        "#Prepare the test data\n",
        "x_test = []\n",
        "\n",
        "for x in range(prediction_days, len(model_inputs)):\n",
        "  x_test.append(model_inputs[x-prediction_days:x, 0])\n",
        "x_test = np.array(x_test)\n",
        "x_test = np.reshape(x_test, (x_test.shape[0], x_test.shape[1], 1))"
      ],
      "metadata": {
        "id": "OdBURocuLgbX"
      },
      "execution_count": 55,
      "outputs": []
    },
    {
      "cell_type": "code",
      "source": [
        "#Predict the prices\n",
        "prediction_prices = model.predict(x_test)\n",
        "prediction_prices = scaler.inverse_transform(prediction_prices)"
      ],
      "metadata": {
        "id": "UybIFm7iRsXe"
      },
      "execution_count": 56,
      "outputs": []
    },
    {
      "cell_type": "code",
      "source": [
        "#Plot the resutls\n",
        "plt.plot(actual_prices, color='black', label='Actual Prices')\n",
        "plt.plot(prediction_prices, color='green', label='Predicted Prices')\n",
        "plt.title(f\"{crypto_currency} price prediction\")\n",
        "plt.xlabel('Time')\n",
        "plt.ylabel('Price')\n",
        "plt.legend(loc='upper left')\n",
        "plt.show()"
      ],
      "metadata": {
        "colab": {
          "base_uri": "https://localhost:8080/",
          "height": 295
        },
        "id": "C_z6N8B3SCfc",
        "outputId": "953671f9-2c88-4169-dc40-8da74d9f7ca6"
      },
      "execution_count": 57,
      "outputs": [
        {
          "output_type": "display_data",
          "data": {
            "text/plain": [
              "<Figure size 432x288 with 1 Axes>"
            ],
            "image/png": "[encoded data removed]"
          },
          "metadata": {
            "needs_background": "light"
          }
        }
      ]
    },
    {
      "cell_type": "code",
      "source": [
        "#Predict Next Day"
      ],
      "metadata": {
        "id": "CmhPBSmVTbg2"
      },
      "execution_count": 58,
      "outputs": []
    },
    {
      "cell_type": "code",
      "source": [
        "#Create a model\n",
        "real_data = [model_inputs[-prediction_days:, 0]]\n",
        "real_data = np.array(real_data)\n",
        "real_data = np.reshape(real_data, (real_data.shape[0], real_data.shape[1], 1))"
      ],
      "metadata": {
        "id": "491t1_V1T6i4"
      },
      "execution_count": 59,
      "outputs": []
    },
    {
      "cell_type": "code",
      "source": [
        "#Prediction\n",
        "prediction = model.predict(real_data)\n",
        "prediction = scaler.inverse_transform(prediction)\n",
        "print(prediction)"
      ],
      "metadata": {
        "colab": {
          "base_uri": "https://localhost:8080/"
        },
        "id": "g76avV5hUB1n",
        "outputId": "c1559dd1-6ba4-4579-c099-d6c4e4f42fcd"
      },
      "execution_count": 60,
      "outputs": [
        {
          "output_type": "stream",
          "name": "stdout",
          "text": [
            "[[20778.168]]\n"
          ]
        }
      ]
    }
  ]
}